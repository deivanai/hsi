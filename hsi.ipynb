{
 "cells": [
  {
   "cell_type": "code",
   "execution_count": null,
   "metadata": {},
   "outputs": [],
   "source": [
    "#Implement a simple autoencoder to do blind unmixing of HSI Urban dataset.\n",
    "#Refer the paper : Hyperspectral Unmixing Using a Neural Network Autoencoder\n",
    "#not yet working model"
   ]
  },
  {
   "cell_type": "code",
   "execution_count": 1,
   "metadata": {},
   "outputs": [
    {
     "name": "stderr",
     "output_type": "stream",
     "text": [
      "Using TensorFlow backend.\n"
     ]
    }
   ],
   "source": [
    "#All imports \n",
    "\n",
    "import tensorflow as tf\n",
    "from functools import partial\n",
    "import numpy as np\n",
    "import matplotlib.pyplot as plt\n",
    "%matplotlib inline  \n",
    "import scipy.io as sio\n",
    "from sklearn.preprocessing import StandardScaler\n",
    "\n",
    "from keras.layers import Input, Dense, ThresholdedReLU\n",
    "from keras.models import Model\n",
    "from keras.initializers import he_normal\n",
    "from keras.layers.normalization import BatchNormalization\n",
    "from keras.optimizers import Adam\n",
    "from keras import regularizers\n",
    "from keras.layers import Dropout"
   ]
  },
  {
   "cell_type": "code",
   "execution_count": 2,
   "metadata": {},
   "outputs": [],
   "source": [
    "#hyperparameters \n",
    "#for now will use the best possibilities suggested by the research paper\n",
    "#use Urban HSI data that is preprocessed with useless bands removed and 4 endmembers as ground truth. \n",
    "#http://lesun.weebly.com/hyperspectral-data-set.html\n",
    "n_bands =  162\n",
    "n_pixels = 307 * 307\n",
    "n_endmember = 4 #use the 4 channel groundtruth for later comparison \n",
    "\n",
    "#hidden layers number of nodes \n",
    "n_hidden1 = 9 * n_endmember\n",
    "n_hidden2 = 6 * n_endmember \n",
    "n_hidden3 = 3 * n_endmember\n",
    "n_hidden4 =  n_endmember\n",
    "\n",
    "#decoder with linear activation \n",
    "n_outputs = n_bands\n",
    "\n",
    "learning_rate = 1\n",
    "batch_size = 10\n",
    "n_epochs = 10\n",
    "l2_reg = 0.1\n",
    "train_bool = True"
   ]
  },
  {
   "cell_type": "code",
   "execution_count": 3,
   "metadata": {},
   "outputs": [
    {
     "data": {
      "text/plain": [
       "'\\n#construct the autoencoder layers \\n\\n#place holder for input with variable batch size\\nX = tf.placeholder(tf.float32, shape = [ None, n_bands])\\n\\n#he_init initializer\\nhe_init = tf.contrib.layers.variance_scaling_initializer()\\n\\n#l2 regularizer to add to loss function\\n\\nl2_regularizer = tf.contrib.layers.l2_regularizer(l2_reg)\\n\\n#python partial function to define some of the arguments for dense function call \\nmy_dense_layer = partial(tf.layers.dense,\\n                         activation = tf.nn.relu, \\n                         kernel_initializer= he_init, \\n                         kernel_regularizer = l2_regularizer)\\n\\n#all the layers definition\\n\\n#encoder\\nhidden1 = my_dense_layer(X, n_hidden1, activation = tf.nn.sigmoid, name = \"hidden_1\")\\nhidden2 = my_dense_layer(hidden1,n_hidden2,activation = tf.nn.sigmoid, name = \"hidden_2\") \\nhidden3 = my_dense_layer(hidden2, n_hidden3,activation = tf.nn.sigmoid , name = \"hidden_3\")\\nhidden4 = my_dense_layer(hidden3, n_hidden4,activation = tf.nn.sigmoid, name = \"hidden_4\")\\n\\n# \"encoded\" is the encoded representation of the input\\n         \\n#add utility layers \\n#batch normalization\\nhidden5 = tf.layers.batch_normalization(hidden4, training = train_bool) \\n#dynamic soft thresholding fix to use keras layer for dynamic thresholding with learning parameter\\nhidden6 = my_dense_layer(hidden5, n_hidden4, activation = tf.nn.relu,name = \"threshold\")\\n#enforce ASC for now using softmax activation \\nhidden7 = my_dense_layer(hidden6, n_hidden4, activation = tf.nn.softmax,name = \"ASC\")\\n\\n#gaussian dropout \\nhidden8 = tf.layers.dropout(hidden7,rate=0.5,training = train_bool)\\n    \\n#decoder \\noutputs = my_dense_layer(hidden8, n_outputs, activation = None,use_bias=False, name = \"output\")\\n\\n#start using MSE and later change it to use SID/ SAD as recommended in paper \\n\\n#reconstruction_loss = tf.reduce_mean(tf.square(outputs - X)) #MSE\\nreg_losses = tf.get_collection(tf.GraphKeys.REGULARIZATION_LOSSES)\\n\\n#adding two tensors to get final loss \\nloss = tf.add_n([reconstruction_loss] + reg_losses)\\n\\n#recommended adam optimizer\\noptimizer = tf.train.AdamOptimizer(learning_rate)\\nupdate_ops = tf.get_collection(tf.GraphKeys.UPDATE_OPS)\\ntraining_op = optimizer.minimize(loss)\\ntraining_op = tf.group([training_op, update_ops])\\n'"
      ]
     },
     "execution_count": 3,
     "metadata": {},
     "output_type": "execute_result"
    }
   ],
   "source": [
    "\"\"\"\n",
    "#construct the autoencoder layers \n",
    "\n",
    "#place holder for input with variable batch size\n",
    "X = tf.placeholder(tf.float32, shape = [ None, n_bands])\n",
    "\n",
    "#he_init initializer\n",
    "he_init = tf.contrib.layers.variance_scaling_initializer()\n",
    "\n",
    "#l2 regularizer to add to loss function\n",
    "\n",
    "l2_regularizer = tf.contrib.layers.l2_regularizer(l2_reg)\n",
    "\n",
    "#python partial function to define some of the arguments for dense function call \n",
    "my_dense_layer = partial(tf.layers.dense,\n",
    "                         activation = tf.nn.relu, \n",
    "                         kernel_initializer= he_init, \n",
    "                         kernel_regularizer = l2_regularizer)\n",
    "\n",
    "#all the layers definition\n",
    "\n",
    "#encoder\n",
    "hidden1 = my_dense_layer(X, n_hidden1, activation = tf.nn.sigmoid, name = \"hidden_1\")\n",
    "hidden2 = my_dense_layer(hidden1,n_hidden2,activation = tf.nn.sigmoid, name = \"hidden_2\") \n",
    "hidden3 = my_dense_layer(hidden2, n_hidden3,activation = tf.nn.sigmoid , name = \"hidden_3\")\n",
    "hidden4 = my_dense_layer(hidden3, n_hidden4,activation = tf.nn.sigmoid, name = \"hidden_4\")\n",
    "\n",
    "# \"encoded\" is the encoded representation of the input\n",
    "         \n",
    "#add utility layers \n",
    "#batch normalization\n",
    "hidden5 = tf.layers.batch_normalization(hidden4, training = train_bool) \n",
    "#dynamic soft thresholding fix to use keras layer for dynamic thresholding with learning parameter\n",
    "hidden6 = my_dense_layer(hidden5, n_hidden4, activation = tf.nn.relu,name = \"threshold\")\n",
    "#enforce ASC for now using softmax activation \n",
    "hidden7 = my_dense_layer(hidden6, n_hidden4, activation = tf.nn.softmax,name = \"ASC\")\n",
    "\n",
    "#gaussian dropout \n",
    "hidden8 = tf.layers.dropout(hidden7,rate=0.5,training = train_bool)\n",
    "    \n",
    "#decoder \n",
    "outputs = my_dense_layer(hidden8, n_outputs, activation = None,use_bias=False, name = \"output\")\n",
    "\n",
    "#start using MSE and later change it to use SID/ SAD as recommended in paper \n",
    "\n",
    "#reconstruction_loss = tf.reduce_mean(tf.square(outputs - X)) #MSE\n",
    "reg_losses = tf.get_collection(tf.GraphKeys.REGULARIZATION_LOSSES)\n",
    "\n",
    "#adding two tensors to get final loss \n",
    "loss = tf.add_n([reconstruction_loss] + reg_losses)\n",
    "\n",
    "#recommended adam optimizer\n",
    "optimizer = tf.train.AdamOptimizer(learning_rate)\n",
    "update_ops = tf.get_collection(tf.GraphKeys.UPDATE_OPS)\n",
    "training_op = optimizer.minimize(loss)\n",
    "training_op = tf.group([training_op, update_ops])\n",
    "\"\"\"\n"
   ]
  },
  {
   "cell_type": "code",
   "execution_count": 4,
   "metadata": {},
   "outputs": [
    {
     "name": "stdout",
     "output_type": "stream",
     "text": [
      "(162, 94249)\n"
     ]
    },
    {
     "name": "stderr",
     "output_type": "stream",
     "text": [
      "/anaconda3/lib/python3.6/site-packages/sklearn/utils/validation.py:590: DataConversionWarning: Data with input dtype uint16 was converted to float64 by StandardScaler.\n",
      "  warnings.warn(msg, DataConversionWarning)\n"
     ]
    },
    {
     "name": "stdout",
     "output_type": "stream",
     "text": [
      "(94249, 162)\n",
      "(90000, 162)\n"
     ]
    },
    {
     "name": "stderr",
     "output_type": "stream",
     "text": [
      "/anaconda3/lib/python3.6/site-packages/sklearn/utils/validation.py:590: DataConversionWarning: Data with input dtype uint16 was converted to float64 by StandardScaler.\n",
      "  warnings.warn(msg, DataConversionWarning)\n"
     ]
    }
   ],
   "source": [
    "#load urban data \n",
    "#assumption data is downloaded and saved locally #TODO add script to download as prerequisite.\n",
    "urban_mat = sio.loadmat('/Users/deivanaimeyyappan/Downloads/Urban_R162.mat')\n",
    "data = np.array(urban_mat['Y'])\n",
    "print (data.shape)\n",
    " # reshape data to 2D with one pixel of input for all bands at a time \n",
    "standardized_data = StandardScaler().fit_transform(data)\n",
    "standardized_data = np.transpose(standardized_data)\n",
    "print (standardized_data.shape)\n",
    "standardized_data = standardized_data[0:90000]\n",
    "print (standardized_data.shape)"
   ]
  },
  {
   "cell_type": "code",
   "execution_count": 5,
   "metadata": {},
   "outputs": [],
   "source": [
    "X = Input(shape=(n_bands,))\n",
    "hidden1 = Dense(n_hidden1, input_dim = n_bands, kernel_initializer='he_normal', activation = 'sigmoid')(X)\n",
    "hidden2 = Dense(n_hidden2, kernel_initializer='he_normal', activation = 'sigmoid')(hidden1)\n",
    "hidden3 = Dense(n_hidden3, kernel_initializer='he_normal', activation = 'sigmoid')(hidden2)\n",
    "hidden4  = Dense(n_hidden4, kernel_initializer='he_normal', activation = 'sigmoid')(hidden3)\n",
    "hidden5_bn = BatchNormalization()(hidden4)# batchnormalization layer \n",
    "hidden6_t = ThresholdedReLU(theta=0.1)(hidden5_bn) #fix to add custom dynamic soft thresholding layer\n",
    "hidden7_asc = Dense(n_hidden4, activation = 'softmax')(hidden6_t) #ASC constraint using softmax output \n",
    "# layers output activation is the abundance map \n",
    "\n",
    "hidden8_do = Dropout(0.2)(hidden7_asc) # gaussian drop out \n",
    "output = Dense(n_outputs, activation = None, use_bias = False, kernel_constraint = 'NonNeg')(hidden8_do) # non negative constraints for weight. \n",
    "#layers weights are the endmember signature. \n",
    "adam = Adam(lr=learning_rate, decay = 0.1)\n",
    "autoencoder = Model(X, output)\n",
    "autoencoder.compile(loss='mse', optimizer=adam)\n"
   ]
  },
  {
   "cell_type": "code",
   "execution_count": 6,
   "metadata": {},
   "outputs": [
    {
     "name": "stderr",
     "output_type": "stream",
     "text": [
      "/anaconda3/lib/python3.6/site-packages/ipykernel_launcher.py:1: UserWarning: The `nb_epoch` argument in `fit` has been renamed `epochs`.\n",
      "  \"\"\"Entry point for launching an IPython kernel.\n"
     ]
    },
    {
     "name": "stdout",
     "output_type": "stream",
     "text": [
      "Epoch 1/10\n",
      " - 33s - loss: 0.6320\n",
      "Epoch 2/10\n",
      " - 32s - loss: 0.6079\n",
      "Epoch 3/10\n",
      " - 29s - loss: 0.6050\n",
      "Epoch 4/10\n",
      " - 31s - loss: 0.6049\n",
      "Epoch 5/10\n",
      " - 30s - loss: 0.6037\n",
      "Epoch 6/10\n",
      " - 32s - loss: 0.6041\n",
      "Epoch 7/10\n",
      " - 31s - loss: 0.6036\n",
      "Epoch 8/10\n",
      " - 31s - loss: 0.6035\n",
      "Epoch 9/10\n",
      " - 31s - loss: 0.6036\n",
      "Epoch 10/10\n",
      " - 29s - loss: 0.6028\n"
     ]
    },
    {
     "data": {
      "text/plain": [
       "<keras.callbacks.History at 0x1a42458588>"
      ]
     },
     "execution_count": 6,
     "metadata": {},
     "output_type": "execute_result"
    }
   ],
   "source": [
    "autoencoder.fit(standardized_data,standardized_data, nb_epoch=n_epochs, batch_size=batch_size, verbose = 2)"
   ]
  },
  {
   "cell_type": "code",
   "execution_count": null,
   "metadata": {},
   "outputs": [],
   "source": [
    "\"\"\" saver = tf.train.Saver()\n",
    "init = tf.global_variables_initializer()\n",
    "variables_names = [v.name for v in tf.trainable_variables()]\n",
    "with tf.Session() as sess:\n",
    "    init.run()\n",
    "    for epoch in range(n_epochs):\n",
    "        for iteration in range( n_pixels // batch_size ):\n",
    "            start = iteration\n",
    "            end = iteration + batch_size\n",
    "            x_batch = np.transpose((np.reshape(standardized_data[start:end], (n_bands, batch_size))))\n",
    "            _, tr_loss = sess.run([training_op,loss], feed_dict= {X: x_batch})\n",
    "        if(epoch % 50 == 0):\n",
    "           print('Step %i: Minibatch Loss: %f' % (epoch, tr_loss))\n",
    "    save_path = saver.save(sess, \"./my_model_final.ckpt\")\"\"\"\n",
    "    "
   ]
  },
  {
   "cell_type": "code",
   "execution_count": 11,
   "metadata": {},
   "outputs": [
    {
     "name": "stdout",
     "output_type": "stream",
     "text": [
      "{'batch_input_shape': (None, 162), 'dtype': 'float32', 'sparse': False, 'name': 'input_1'}\n",
      "{'name': 'dense_1', 'trainable': True, 'batch_input_shape': (None, 162), 'dtype': 'float32', 'units': 36, 'activation': 'sigmoid', 'use_bias': True, 'kernel_initializer': {'class_name': 'VarianceScaling', 'config': {'scale': 2.0, 'mode': 'fan_in', 'distribution': 'normal', 'seed': None}}, 'bias_initializer': {'class_name': 'Zeros', 'config': {}}, 'kernel_regularizer': None, 'bias_regularizer': None, 'activity_regularizer': None, 'kernel_constraint': None, 'bias_constraint': None}\n",
      "{'name': 'dense_2', 'trainable': True, 'units': 24, 'activation': 'sigmoid', 'use_bias': True, 'kernel_initializer': {'class_name': 'VarianceScaling', 'config': {'scale': 2.0, 'mode': 'fan_in', 'distribution': 'normal', 'seed': None}}, 'bias_initializer': {'class_name': 'Zeros', 'config': {}}, 'kernel_regularizer': None, 'bias_regularizer': None, 'activity_regularizer': None, 'kernel_constraint': None, 'bias_constraint': None}\n",
      "{'name': 'dense_3', 'trainable': True, 'units': 12, 'activation': 'sigmoid', 'use_bias': True, 'kernel_initializer': {'class_name': 'VarianceScaling', 'config': {'scale': 2.0, 'mode': 'fan_in', 'distribution': 'normal', 'seed': None}}, 'bias_initializer': {'class_name': 'Zeros', 'config': {}}, 'kernel_regularizer': None, 'bias_regularizer': None, 'activity_regularizer': None, 'kernel_constraint': None, 'bias_constraint': None}\n",
      "{'name': 'dense_4', 'trainable': True, 'units': 4, 'activation': 'sigmoid', 'use_bias': True, 'kernel_initializer': {'class_name': 'VarianceScaling', 'config': {'scale': 2.0, 'mode': 'fan_in', 'distribution': 'normal', 'seed': None}}, 'bias_initializer': {'class_name': 'Zeros', 'config': {}}, 'kernel_regularizer': None, 'bias_regularizer': None, 'activity_regularizer': None, 'kernel_constraint': None, 'bias_constraint': None}\n",
      "{'name': 'batch_normalization_1', 'trainable': True, 'axis': -1, 'momentum': 0.99, 'epsilon': 0.001, 'center': True, 'scale': True, 'beta_initializer': {'class_name': 'Zeros', 'config': {}}, 'gamma_initializer': {'class_name': 'Ones', 'config': {}}, 'moving_mean_initializer': {'class_name': 'Zeros', 'config': {}}, 'moving_variance_initializer': {'class_name': 'Ones', 'config': {}}, 'beta_regularizer': None, 'gamma_regularizer': None, 'beta_constraint': None, 'gamma_constraint': None}\n",
      "{'name': 'thresholded_re_lu_1', 'trainable': True, 'theta': 0.10000000149011612}\n",
      "{'name': 'dense_5', 'trainable': True, 'units': 4, 'activation': 'softmax', 'use_bias': True, 'kernel_initializer': {'class_name': 'VarianceScaling', 'config': {'scale': 1.0, 'mode': 'fan_avg', 'distribution': 'uniform', 'seed': None}}, 'bias_initializer': {'class_name': 'Zeros', 'config': {}}, 'kernel_regularizer': None, 'bias_regularizer': None, 'activity_regularizer': None, 'kernel_constraint': None, 'bias_constraint': None}\n",
      "{'name': 'dropout_1', 'trainable': True, 'rate': 0.2, 'noise_shape': None, 'seed': None}\n",
      "{'name': 'dense_6', 'trainable': True, 'units': 162, 'activation': 'linear', 'use_bias': False, 'kernel_initializer': {'class_name': 'VarianceScaling', 'config': {'scale': 1.0, 'mode': 'fan_avg', 'distribution': 'uniform', 'seed': None}}, 'bias_initializer': {'class_name': 'Zeros', 'config': {}}, 'kernel_regularizer': None, 'bias_regularizer': None, 'activity_regularizer': None, 'kernel_constraint': {'class_name': 'NonNeg', 'config': {}}, 'bias_constraint': None}\n",
      "10\n"
     ]
    }
   ],
   "source": [
    "#get weights of layer 8 corresponding to end member signature.\n",
    "for layer in autoencoder.layers:\n",
    "    print(layer.get_config())\n",
    "    \n",
    "print (len(autoencoder.layers))\n"
   ]
  },
  {
   "cell_type": "code",
   "execution_count": 14,
   "metadata": {},
   "outputs": [
    {
     "name": "stdout",
     "output_type": "stream",
     "text": [
      "[array([[-0.0000000e+00, -0.0000000e+00, -0.0000000e+00, -0.0000000e+00,\n",
      "        -0.0000000e+00, -0.0000000e+00, -0.0000000e+00, -0.0000000e+00,\n",
      "        -0.0000000e+00, -0.0000000e+00, -0.0000000e+00, -0.0000000e+00,\n",
      "        -0.0000000e+00, -0.0000000e+00, -0.0000000e+00, -0.0000000e+00,\n",
      "        -0.0000000e+00, -0.0000000e+00, -0.0000000e+00, -0.0000000e+00,\n",
      "        -0.0000000e+00, -0.0000000e+00, -0.0000000e+00, -0.0000000e+00,\n",
      "        -0.0000000e+00, -0.0000000e+00, -0.0000000e+00, -0.0000000e+00,\n",
      "        -0.0000000e+00, -0.0000000e+00, -0.0000000e+00, -0.0000000e+00,\n",
      "        -0.0000000e+00, -0.0000000e+00, -0.0000000e+00, -0.0000000e+00,\n",
      "        -0.0000000e+00, -0.0000000e+00, -0.0000000e+00, -0.0000000e+00,\n",
      "        -0.0000000e+00, -0.0000000e+00, -0.0000000e+00, -0.0000000e+00,\n",
      "        -0.0000000e+00, -0.0000000e+00, -0.0000000e+00, -0.0000000e+00,\n",
      "        -0.0000000e+00, -0.0000000e+00, -0.0000000e+00, -0.0000000e+00,\n",
      "        -0.0000000e+00, -0.0000000e+00, -0.0000000e+00, -0.0000000e+00,\n",
      "        -0.0000000e+00, -0.0000000e+00, -0.0000000e+00, -0.0000000e+00,\n",
      "        -0.0000000e+00, -0.0000000e+00, -0.0000000e+00, -0.0000000e+00,\n",
      "        -0.0000000e+00, -0.0000000e+00, -0.0000000e+00, -0.0000000e+00,\n",
      "        -0.0000000e+00, -0.0000000e+00, -0.0000000e+00,  1.9535498e-01,\n",
      "         2.6159167e-01,  2.5064176e-01,  2.4258244e-01,  2.9355028e-01,\n",
      "         2.7754486e-01,  3.6154205e-01,  4.1573161e-01,  4.0094367e-01,\n",
      "         2.8480542e-01,  6.5572478e-02,  7.1990889e-01,  7.7506304e-01,\n",
      "         6.7118317e-01,  7.1021515e-01,  7.3926204e-01,  7.9429299e-01,\n",
      "         8.5037374e-01,  8.2068938e-01,  7.9963320e-01,  8.6158884e-01,\n",
      "         7.3658568e-01,  6.6470200e-01,  6.5568942e-01,  7.3492867e-01,\n",
      "         7.6668131e-01,  8.4321707e-01,  8.7679374e-01,  8.8146585e-01,\n",
      "         8.9751071e-01,  9.3179297e-01,  9.5471203e-01,  9.7521514e-01,\n",
      "         1.0150765e+00,  1.0932457e+00,  1.1238509e+00,  1.1208842e+00,\n",
      "         1.0812565e+00,  1.0238851e+00,  1.0591676e+00,  1.0336111e+00,\n",
      "         1.0392628e+00,  1.0006220e+00,  9.7667331e-01,  9.7575331e-01,\n",
      "         9.7855693e-01,  1.0355408e+00,  2.9822371e-03,  4.5084971e-04,\n",
      "         3.4652112e-07,  1.6636047e-01,  4.3569979e-01,  3.7020311e-01,\n",
      "         3.2273313e-01,  3.0755916e-01,  3.8756594e-01,  4.7865674e-01,\n",
      "         4.8649004e-01,  4.4612181e-01,  4.8445272e-01,  5.6462890e-01,\n",
      "         6.7819214e-01,  7.3311657e-01,  5.8045614e-01,  6.0531074e-01,\n",
      "         5.5270946e-01,  5.2490419e-01,  5.5119002e-01,  4.3034241e-01,\n",
      "         3.5712293e-01,  3.3956879e-01,  3.4495753e-01,  3.8725704e-01,\n",
      "         4.4021887e-01,  4.7668657e-01,  4.7597486e-01,  2.7955914e-01,\n",
      "         4.2824086e-02,  1.5907865e-03,  8.6685097e-05, -0.0000000e+00,\n",
      "        -0.0000000e+00, -0.0000000e+00, -0.0000000e+00, -0.0000000e+00,\n",
      "        -0.0000000e+00, -0.0000000e+00, -0.0000000e+00,  3.1275158e-05,\n",
      "        -0.0000000e+00,  3.7106860e-05],\n",
      "       [-0.0000000e+00, -0.0000000e+00, -0.0000000e+00, -0.0000000e+00,\n",
      "        -0.0000000e+00, -0.0000000e+00, -0.0000000e+00, -0.0000000e+00,\n",
      "        -0.0000000e+00, -0.0000000e+00, -0.0000000e+00, -0.0000000e+00,\n",
      "        -0.0000000e+00, -0.0000000e+00, -0.0000000e+00, -0.0000000e+00,\n",
      "        -0.0000000e+00, -0.0000000e+00, -0.0000000e+00, -0.0000000e+00,\n",
      "        -0.0000000e+00, -0.0000000e+00, -0.0000000e+00, -0.0000000e+00,\n",
      "        -0.0000000e+00, -0.0000000e+00, -0.0000000e+00, -0.0000000e+00,\n",
      "        -0.0000000e+00, -0.0000000e+00, -0.0000000e+00, -0.0000000e+00,\n",
      "        -0.0000000e+00, -0.0000000e+00, -0.0000000e+00, -0.0000000e+00,\n",
      "        -0.0000000e+00, -0.0000000e+00, -0.0000000e+00, -0.0000000e+00,\n",
      "        -0.0000000e+00, -0.0000000e+00, -0.0000000e+00, -0.0000000e+00,\n",
      "        -0.0000000e+00, -0.0000000e+00, -0.0000000e+00, -0.0000000e+00,\n",
      "        -0.0000000e+00, -0.0000000e+00, -0.0000000e+00, -0.0000000e+00,\n",
      "         7.3686861e-03,  4.6644127e-01,  7.5118995e-01,  8.4063971e-01,\n",
      "         8.4281701e-01,  1.0361278e+00,  9.8072183e-01,  9.9772680e-01,\n",
      "         1.0106519e+00,  1.0588917e+00,  1.0953481e+00,  1.0776917e+00,\n",
      "         1.1107903e+00,  1.1299989e+00,  1.0928392e+00,  1.0675112e+00,\n",
      "         1.0719025e+00,  9.7849119e-01,  9.8198277e-01,  1.0672765e+00,\n",
      "         1.0717654e+00,  1.0686082e+00,  1.0831110e+00,  1.1308873e+00,\n",
      "         1.1363873e+00,  1.1821036e+00,  1.2042718e+00,  1.1941530e+00,\n",
      "         1.1129700e+00,  1.0003819e+00,  1.0861715e+00,  9.8595428e-01,\n",
      "         8.8098675e-01,  8.7673652e-01,  8.8484287e-01,  9.1977531e-01,\n",
      "         9.6144599e-01,  9.6361709e-01,  9.6903968e-01,  9.8538888e-01,\n",
      "         9.0233922e-01,  8.2013577e-01, -0.0000000e+00,  4.3526081e-05,\n",
      "        -0.0000000e+00,  7.8275028e-05,  2.8889370e-04,  3.6124198e-04,\n",
      "         4.8018314e-04,  1.8950840e-03,  3.1691730e-02,  6.0593136e-02,\n",
      "         1.0129466e-01,  1.5138961e-01,  1.7575434e-01,  1.9194271e-01,\n",
      "         1.8227072e-01,  1.6988732e-01,  1.7223850e-01,  1.3323194e-01,\n",
      "         1.1677205e-01,  9.4091415e-02,  5.1114809e-02,  4.7682695e-02,\n",
      "         2.1915453e-02,  6.5085270e-02, -0.0000000e+00, -0.0000000e+00,\n",
      "        -0.0000000e+00, -0.0000000e+00, -0.0000000e+00, -0.0000000e+00,\n",
      "        -0.0000000e+00, -0.0000000e+00, -0.0000000e+00, -0.0000000e+00,\n",
      "        -0.0000000e+00, -0.0000000e+00, -0.0000000e+00, -0.0000000e+00,\n",
      "        -0.0000000e+00, -0.0000000e+00, -0.0000000e+00, -0.0000000e+00,\n",
      "        -0.0000000e+00, -0.0000000e+00, -0.0000000e+00, -0.0000000e+00,\n",
      "        -0.0000000e+00, -0.0000000e+00, -0.0000000e+00, -0.0000000e+00,\n",
      "        -0.0000000e+00, -0.0000000e+00, -0.0000000e+00, -0.0000000e+00,\n",
      "        -0.0000000e+00, -0.0000000e+00, -0.0000000e+00, -0.0000000e+00,\n",
      "        -0.0000000e+00, -0.0000000e+00, -0.0000000e+00, -0.0000000e+00,\n",
      "        -0.0000000e+00, -0.0000000e+00, -0.0000000e+00, -0.0000000e+00,\n",
      "        -0.0000000e+00, -0.0000000e+00],\n",
      "       [-0.0000000e+00, -0.0000000e+00, -0.0000000e+00, -0.0000000e+00,\n",
      "        -0.0000000e+00, -0.0000000e+00, -0.0000000e+00, -0.0000000e+00,\n",
      "        -0.0000000e+00, -0.0000000e+00, -0.0000000e+00, -0.0000000e+00,\n",
      "        -0.0000000e+00, -0.0000000e+00, -0.0000000e+00, -0.0000000e+00,\n",
      "        -0.0000000e+00, -0.0000000e+00, -0.0000000e+00, -0.0000000e+00,\n",
      "        -0.0000000e+00, -0.0000000e+00, -0.0000000e+00, -0.0000000e+00,\n",
      "        -0.0000000e+00, -0.0000000e+00, -0.0000000e+00, -0.0000000e+00,\n",
      "        -0.0000000e+00, -0.0000000e+00, -0.0000000e+00, -0.0000000e+00,\n",
      "        -0.0000000e+00, -0.0000000e+00, -0.0000000e+00, -0.0000000e+00,\n",
      "        -0.0000000e+00, -0.0000000e+00, -0.0000000e+00, -0.0000000e+00,\n",
      "        -0.0000000e+00, -0.0000000e+00, -0.0000000e+00, -0.0000000e+00,\n",
      "        -0.0000000e+00, -0.0000000e+00, -0.0000000e+00, -0.0000000e+00,\n",
      "        -0.0000000e+00, -0.0000000e+00, -0.0000000e+00, -0.0000000e+00,\n",
      "        -0.0000000e+00, -0.0000000e+00, -0.0000000e+00, -0.0000000e+00,\n",
      "        -0.0000000e+00, -0.0000000e+00, -0.0000000e+00, -0.0000000e+00,\n",
      "        -0.0000000e+00, -0.0000000e+00, -0.0000000e+00, -0.0000000e+00,\n",
      "        -0.0000000e+00, -0.0000000e+00, -0.0000000e+00, -0.0000000e+00,\n",
      "        -0.0000000e+00, -0.0000000e+00, -0.0000000e+00, -0.0000000e+00,\n",
      "        -0.0000000e+00, -0.0000000e+00, -0.0000000e+00, -0.0000000e+00,\n",
      "        -0.0000000e+00, -0.0000000e+00, -0.0000000e+00, -0.0000000e+00,\n",
      "        -0.0000000e+00, -0.0000000e+00,  8.8151940e-04,  4.4723168e-02,\n",
      "        -0.0000000e+00,  6.6001789e-04,  6.7025825e-04, -0.0000000e+00,\n",
      "         1.4241158e-04, -0.0000000e+00, -0.0000000e+00, -0.0000000e+00,\n",
      "        -0.0000000e+00, -0.0000000e+00,  6.4527118e-01,  7.5947475e-01,\n",
      "         6.3654751e-01,  5.7048690e-01,  5.3970593e-01,  4.8290956e-01,\n",
      "         4.6199343e-01,  4.8196438e-01,  5.0554258e-01,  4.7566518e-01,\n",
      "         4.7713614e-01,  5.4520339e-01,  5.4532272e-01,  5.5170053e-01,\n",
      "         4.9998310e-01,  4.5634943e-01,  5.0383455e-01,  4.3220004e-01,\n",
      "         4.6177232e-01,  4.7934240e-01,  4.2763460e-01,  5.0763011e-01,\n",
      "         5.4726821e-01,  8.1439382e-01,  1.9022390e+00,  1.6433254e+00,\n",
      "         1.1548519e+00,  1.8532102e+00,  2.1213818e+00,  2.0217099e+00,\n",
      "         1.9639467e+00,  1.9276475e+00,  2.0042720e+00,  2.0995014e+00,\n",
      "         2.1116085e+00,  2.0405056e+00,  2.0447929e+00,  2.0899837e+00,\n",
      "         2.1615684e+00,  2.1667414e+00,  1.9387860e+00,  1.8929855e+00,\n",
      "         1.8224778e+00,  1.8033020e+00,  1.8391920e+00,  1.6937650e+00,\n",
      "         1.6303453e+00,  1.6151978e+00,  1.5610839e+00,  1.5814208e+00,\n",
      "         1.6558044e+00,  1.7176781e+00,  1.7428337e+00,  1.4880732e+00,\n",
      "         1.1640798e+00,  1.0624150e+00,  8.4601575e-01,  5.9548253e-01,\n",
      "         4.7663665e-01,  3.2500893e-01,  4.3907210e-01,  1.9438921e-01,\n",
      "         9.5544113e-03,  4.1920429e-01,  7.3498583e-01,  9.7391933e-01,\n",
      "         9.5511097e-01,  1.1136982e+00],\n",
      "       [-0.0000000e+00, -0.0000000e+00, -0.0000000e+00, -0.0000000e+00,\n",
      "        -0.0000000e+00, -0.0000000e+00, -0.0000000e+00, -0.0000000e+00,\n",
      "        -0.0000000e+00, -0.0000000e+00, -0.0000000e+00, -0.0000000e+00,\n",
      "        -0.0000000e+00, -0.0000000e+00, -0.0000000e+00, -0.0000000e+00,\n",
      "        -0.0000000e+00, -0.0000000e+00, -0.0000000e+00, -0.0000000e+00,\n",
      "        -0.0000000e+00, -0.0000000e+00, -0.0000000e+00, -0.0000000e+00,\n",
      "        -0.0000000e+00, -0.0000000e+00, -0.0000000e+00, -0.0000000e+00,\n",
      "        -0.0000000e+00, -0.0000000e+00, -0.0000000e+00, -0.0000000e+00,\n",
      "        -0.0000000e+00, -0.0000000e+00, -0.0000000e+00, -0.0000000e+00,\n",
      "        -0.0000000e+00, -0.0000000e+00, -0.0000000e+00, -0.0000000e+00,\n",
      "        -0.0000000e+00, -0.0000000e+00, -0.0000000e+00, -0.0000000e+00,\n",
      "        -0.0000000e+00, -0.0000000e+00, -0.0000000e+00, -0.0000000e+00,\n",
      "        -0.0000000e+00, -0.0000000e+00, -0.0000000e+00, -0.0000000e+00,\n",
      "        -0.0000000e+00,  3.5505411e-01,  8.9125466e-01,  9.8987710e-01,\n",
      "         9.0645105e-01,  1.3919806e+00,  1.2741317e+00,  1.3272877e+00,\n",
      "         1.3758950e+00,  1.4789606e+00,  1.6043686e+00,  1.5940415e+00,\n",
      "         1.6936163e+00,  1.7625006e+00,  1.7123219e+00,  1.6460160e+00,\n",
      "         1.6607391e+00,  1.4651136e+00,  1.4965593e+00,  1.8093531e+00,\n",
      "         1.8752595e+00,  1.8904791e+00,  1.9319415e+00,  2.0070181e+00,\n",
      "         2.0240993e+00,  2.0943904e+00,  2.1322534e+00,  2.1441505e+00,\n",
      "         1.9931967e+00,  1.8701323e+00,  2.0552459e+00,  1.8956800e+00,\n",
      "         1.8186529e+00,  1.8280560e+00,  1.8552321e+00,  1.9396765e+00,\n",
      "         2.0143070e+00,  2.0418346e+00,  2.0557601e+00,  2.0965314e+00,\n",
      "         1.9882642e+00,  1.8337196e+00,  8.8522669e-05,  5.2761025e-04,\n",
      "         3.2285874e-04,  1.0992704e-03,  9.1367878e-02,  2.0415603e-01,\n",
      "         3.4462371e-01,  5.2090549e-01,  6.2737292e-01,  6.9975835e-01,\n",
      "         7.9516923e-01,  9.0783328e-01,  9.7303677e-01,  1.0094577e+00,\n",
      "         9.8881024e-01,  9.4683850e-01,  9.5649415e-01,  8.9311808e-01,\n",
      "         8.5998189e-01,  7.9225975e-01,  7.1464545e-01,  6.8701142e-01,\n",
      "         6.3764334e-01,  6.8859625e-01, -0.0000000e+00, -0.0000000e+00,\n",
      "        -0.0000000e+00, -0.0000000e+00, -0.0000000e+00, -0.0000000e+00,\n",
      "        -0.0000000e+00, -0.0000000e+00, -0.0000000e+00, -0.0000000e+00,\n",
      "        -0.0000000e+00, -0.0000000e+00, -0.0000000e+00, -0.0000000e+00,\n",
      "        -0.0000000e+00, -0.0000000e+00, -0.0000000e+00, -0.0000000e+00,\n",
      "        -0.0000000e+00, -0.0000000e+00, -0.0000000e+00, -0.0000000e+00,\n",
      "        -0.0000000e+00, -0.0000000e+00, -0.0000000e+00, -0.0000000e+00,\n",
      "        -0.0000000e+00, -0.0000000e+00, -0.0000000e+00, -0.0000000e+00,\n",
      "        -0.0000000e+00, -0.0000000e+00, -0.0000000e+00, -0.0000000e+00,\n",
      "        -0.0000000e+00, -0.0000000e+00, -0.0000000e+00, -0.0000000e+00,\n",
      "        -0.0000000e+00, -0.0000000e+00, -0.0000000e+00, -0.0000000e+00,\n",
      "        -0.0000000e+00, -0.0000000e+00]], dtype=float32)]\n",
      "(162, 4)\n"
     ]
    },
    {
     "data": {
      "image/png": "[encoded data removed]",
      "text/plain": [
       "<Figure size 432x288 with 1 Axes>"
      ]
     },
     "metadata": {
      "needs_background": "light"
     },
     "output_type": "display_data"
    }
   ],
   "source": [
    "endmember_signature = autoencoder.layers[9].get_weights()\n",
    "print(endmember_signature)\n",
    "endmember_signature = np.reshape(endmember_signature, ( n_bands, n_endmember))\n",
    "print(endmember_signature.shape)\n",
    "plt.plot(endmember_signature)\n",
    "plt.ylabel('endmember signature')\n",
    "plt.show()"
   ]
  },
  {
   "cell_type": "code",
   "execution_count": null,
   "metadata": {},
   "outputs": [],
   "source": [
    "\"\"\"\n",
    "with tf.Session() as sess:\n",
    "    saver.restore(sess, \"./my_model_final.ckpt\")\n",
    "    values = sess.run(\"output/kernel:0\")\n",
    "    values = np.transpose(values)\n",
    "    plt.plot(values)\n",
    "    plt.ylabel('endmember signature')\n",
    "    plt.show()\"\"\"\n",
    "   "
   ]
  },
  {
   "cell_type": "code",
   "execution_count": 15,
   "metadata": {},
   "outputs": [
    {
     "name": "stdout",
     "output_type": "stream",
     "text": [
      "(162, 4)\n"
     ]
    },
    {
     "data": {
      "image/png": "[encoded data removed]",
      "text/plain": [
       "<Figure size 432x288 with 1 Axes>"
      ]
     },
     "metadata": {
      "needs_background": "light"
     },
     "output_type": "display_data"
    }
   ],
   "source": [
    "#get ground truth end member signature and end member abundance to check the performance of the trained vs test data. \n",
    "\n",
    "urban_gt = sio.loadmat('/Users/deivanaimeyyappan/Downloads/groundTruth/end4_groundTruth.mat')\n",
    "urban_endmember_gt = urban_gt['M']\n",
    "print (urban_endmember_gt.shape)\n",
    "plt.plot(urban_endmember_gt)\n",
    "plt.ylabel('endmember signature')\n",
    "plt.show()\n"
   ]
  },
  {
   "cell_type": "code",
   "execution_count": null,
   "metadata": {},
   "outputs": [],
   "source": [
    "\"\"\"#get the abundance fraction of pixel 0\n",
    "with tf.Session() as sess:\n",
    "    train_bool = False\n",
    "    saver.restore(sess, \"./my_model_final.ckpt\")\n",
    "    for iteration in range( n_pixels)\n",
    "        activation = sess.run(hidden8,feed_dict={X:np.transpose(np.reshape(standardized_data[0],(n_bands,1)))})\n",
    "        print(activation)\"\"\""
   ]
  },
  {
   "cell_type": "code",
   "execution_count": null,
   "metadata": {},
   "outputs": [],
   "source": [
    "#print abundance maps \n",
    "#get activation of layer 8 and plot abundance fraction\n",
    "#still working on it. "
   ]
  },
  {
   "cell_type": "code",
   "execution_count": 16,
   "metadata": {},
   "outputs": [
    {
     "name": "stdout",
     "output_type": "stream",
     "text": [
      "(90000, 162)\n",
      "(90000, 4)\n"
     ]
    }
   ],
   "source": [
    "layer_name = 'dense_5'\n",
    "intermediate_layer_model = Model(inputs=autoencoder.input,\n",
    "                                 outputs=autoencoder.get_layer(layer_name).output)\n",
    "print (standardized_data.shape)\n",
    "\n",
    "intermediate_output = intermediate_layer_model.predict(standardized_data)\n",
    "print(intermediate_output.shape)"
   ]
  },
  {
   "cell_type": "code",
   "execution_count": null,
   "metadata": {},
   "outputs": [],
   "source": []
  }
 ],
 "metadata": {
  "kernelspec": {
   "display_name": "Python 3",
   "language": "python",
   "name": "python3"
  },
  "language_info": {
   "codemirror_mode": {
    "name": "ipython",
    "version": 3
   },
   "file_extension": ".py",
   "mimetype": "text/x-python",
   "name": "python",
   "nbconvert_exporter": "python",
   "pygments_lexer": "ipython3",
   "version": "3.6.6"
  }
 },
 "nbformat": 4,
 "nbformat_minor": 2
}
